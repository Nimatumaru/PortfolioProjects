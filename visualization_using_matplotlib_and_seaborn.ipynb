{
  "nbformat": 4,
  "nbformat_minor": 0,
  "metadata": {
    "colab": {
      "name": "visualization using matplotlib and seaborn.ipynb",
      "provenance": [],
      "collapsed_sections": [],
      "mount_file_id": "1epnusdpGEMILH7H0WlQcVmXRDk8i-lwI",
      "authorship_tag": "ABX9TyOmnO5V1fi4AQ9BQZBz70Gm",
      "include_colab_link": true
    },
    "kernelspec": {
      "name": "python3",
      "display_name": "Python 3"
    },
    "language_info": {
      "name": "python"
    }
  },
  "cells": [
    {
      "cell_type": "markdown",
      "metadata": {
        "id": "view-in-github",
        "colab_type": "text"
      },
      "source": [
        "<a href=\"https://colab.research.google.com/github/Nimatumaru/PortfolioProjects/blob/main/visualization_using_matplotlib_and_seaborn.ipynb\" target=\"_parent\"><img src=\"https://colab.research.google.com/assets/colab-badge.svg\" alt=\"Open In Colab\"/></a>"
      ]
    },
    {
      "cell_type": "code",
      "execution_count": null,
      "metadata": {
        "id": "7SrLWf0qQjUC"
      },
      "outputs": [],
      "source": [
        ""
      ]
    },
    {
      "cell_type": "code",
      "source": [
        "!pip install pandas_profiling"
      ],
      "metadata": {
        "colab": {
          "base_uri": "https://localhost:8080/"
        },
        "id": "Rgb02Y2qFmv8",
        "outputId": "79a30f76-6142-45e3-85fd-b721eb0d8949"
      },
      "execution_count": 7,
      "outputs": [
        {
          "output_type": "stream",
          "name": "stdout",
          "text": [
            "Requirement already satisfied: pandas_profiling in /usr/local/lib/python3.7/dist-packages (1.4.1)\n",
            "Requirement already satisfied: pandas>=0.19 in /usr/local/lib/python3.7/dist-packages (from pandas_profiling) (1.3.5)\n",
            "Requirement already satisfied: six>=1.9 in /usr/local/lib/python3.7/dist-packages (from pandas_profiling) (1.15.0)\n",
            "Requirement already satisfied: jinja2>=2.8 in /usr/local/lib/python3.7/dist-packages (from pandas_profiling) (2.11.3)\n",
            "Requirement already satisfied: matplotlib>=1.4 in /usr/local/lib/python3.7/dist-packages (from pandas_profiling) (3.2.2)\n",
            "Requirement already satisfied: MarkupSafe>=0.23 in /usr/local/lib/python3.7/dist-packages (from jinja2>=2.8->pandas_profiling) (2.0.1)\n",
            "Requirement already satisfied: kiwisolver>=1.0.1 in /usr/local/lib/python3.7/dist-packages (from matplotlib>=1.4->pandas_profiling) (1.3.2)\n",
            "Requirement already satisfied: cycler>=0.10 in /usr/local/lib/python3.7/dist-packages (from matplotlib>=1.4->pandas_profiling) (0.11.0)\n",
            "Requirement already satisfied: pyparsing!=2.0.4,!=2.1.2,!=2.1.6,>=2.0.1 in /usr/local/lib/python3.7/dist-packages (from matplotlib>=1.4->pandas_profiling) (3.0.7)\n",
            "Requirement already satisfied: numpy>=1.11 in /usr/local/lib/python3.7/dist-packages (from matplotlib>=1.4->pandas_profiling) (1.19.5)\n",
            "Requirement already satisfied: python-dateutil>=2.1 in /usr/local/lib/python3.7/dist-packages (from matplotlib>=1.4->pandas_profiling) (2.8.2)\n",
            "Requirement already satisfied: pytz>=2017.3 in /usr/local/lib/python3.7/dist-packages (from pandas>=0.19->pandas_profiling) (2018.9)\n"
          ]
        }
      ]
    },
    {
      "cell_type": "code",
      "source": [
        "import pandas as pd"
      ],
      "metadata": {
        "id": "UB3uXAm2F39N"
      },
      "execution_count": 9,
      "outputs": []
    },
    {
      "cell_type": "code",
      "source": [
        "import numpy as np"
      ],
      "metadata": {
        "id": "h5rn4QwLUPZr"
      },
      "execution_count": 8,
      "outputs": []
    },
    {
      "cell_type": "code",
      "source": [
        "import pandas_profiling as pp"
      ],
      "metadata": {
        "id": "NdqRYPRAmcsc"
      },
      "execution_count": 10,
      "outputs": []
    },
    {
      "cell_type": "code",
      "source": [
        "import matplotlib.pyplot as plt\n"
      ],
      "metadata": {
        "id": "7FNglL7a27uI"
      },
      "execution_count": 11,
      "outputs": []
    },
    {
      "cell_type": "code",
      "source": [
        ""
      ],
      "metadata": {
        "id": "wm_mLilh27z9"
      },
      "execution_count": null,
      "outputs": []
    },
    {
      "cell_type": "code",
      "source": [
        ""
      ],
      "metadata": {
        "id": "pvJgjbgJ273k"
      },
      "execution_count": null,
      "outputs": []
    },
    {
      "cell_type": "code",
      "source": [
        "t_data=pd.read_csv('/content/drive/MyDrive/temporal.csv')"
      ],
      "metadata": {
        "id": "frc6TVixUPcL"
      },
      "execution_count": null,
      "outputs": []
    },
    {
      "cell_type": "code",
      "source": [
        "t_data.head()"
      ],
      "metadata": {
        "id": "wxWd9VfsUPe6",
        "colab": {
          "base_uri": "https://localhost:8080/",
          "height": 206
        },
        "outputId": "2341a414-e54c-480b-c5da-2f1fe37b2281"
      },
      "execution_count": null,
      "outputs": [
        {
          "output_type": "execute_result",
          "data": {
            "text/html": [
              "\n",
              "  <div id=\"df-0394870e-0bd8-4b46-b577-e5dea5b86d31\">\n",
              "    <div class=\"colab-df-container\">\n",
              "      <div>\n",
              "<style scoped>\n",
              "    .dataframe tbody tr th:only-of-type {\n",
              "        vertical-align: middle;\n",
              "    }\n",
              "\n",
              "    .dataframe tbody tr th {\n",
              "        vertical-align: top;\n",
              "    }\n",
              "\n",
              "    .dataframe thead th {\n",
              "        text-align: right;\n",
              "    }\n",
              "</style>\n",
              "<table border=\"1\" class=\"dataframe\">\n",
              "  <thead>\n",
              "    <tr style=\"text-align: right;\">\n",
              "      <th></th>\n",
              "      <th>Mes</th>\n",
              "      <th>data science</th>\n",
              "      <th>machine learning</th>\n",
              "      <th>deep learning</th>\n",
              "      <th>categorical</th>\n",
              "    </tr>\n",
              "  </thead>\n",
              "  <tbody>\n",
              "    <tr>\n",
              "      <th>0</th>\n",
              "      <td>2004-01-01</td>\n",
              "      <td>12</td>\n",
              "      <td>18</td>\n",
              "      <td>4</td>\n",
              "      <td>1</td>\n",
              "    </tr>\n",
              "    <tr>\n",
              "      <th>1</th>\n",
              "      <td>2004-02-01</td>\n",
              "      <td>12</td>\n",
              "      <td>21</td>\n",
              "      <td>2</td>\n",
              "      <td>1</td>\n",
              "    </tr>\n",
              "    <tr>\n",
              "      <th>2</th>\n",
              "      <td>2004-03-01</td>\n",
              "      <td>9</td>\n",
              "      <td>21</td>\n",
              "      <td>2</td>\n",
              "      <td>1</td>\n",
              "    </tr>\n",
              "    <tr>\n",
              "      <th>3</th>\n",
              "      <td>2004-04-01</td>\n",
              "      <td>10</td>\n",
              "      <td>16</td>\n",
              "      <td>4</td>\n",
              "      <td>1</td>\n",
              "    </tr>\n",
              "    <tr>\n",
              "      <th>4</th>\n",
              "      <td>2004-05-01</td>\n",
              "      <td>7</td>\n",
              "      <td>14</td>\n",
              "      <td>3</td>\n",
              "      <td>1</td>\n",
              "    </tr>\n",
              "  </tbody>\n",
              "</table>\n",
              "</div>\n",
              "      <button class=\"colab-df-convert\" onclick=\"convertToInteractive('df-0394870e-0bd8-4b46-b577-e5dea5b86d31')\"\n",
              "              title=\"Convert this dataframe to an interactive table.\"\n",
              "              style=\"display:none;\">\n",
              "        \n",
              "  <svg xmlns=\"http://www.w3.org/2000/svg\" height=\"24px\"viewBox=\"0 0 24 24\"\n",
              "       width=\"24px\">\n",
              "    <path d=\"M0 0h24v24H0V0z\" fill=\"none\"/>\n",
              "    <path d=\"M18.56 5.44l.94 2.06.94-2.06 2.06-.94-2.06-.94-.94-2.06-.94 2.06-2.06.94zm-11 1L8.5 8.5l.94-2.06 2.06-.94-2.06-.94L8.5 2.5l-.94 2.06-2.06.94zm10 10l.94 2.06.94-2.06 2.06-.94-2.06-.94-.94-2.06-.94 2.06-2.06.94z\"/><path d=\"M17.41 7.96l-1.37-1.37c-.4-.4-.92-.59-1.43-.59-.52 0-1.04.2-1.43.59L10.3 9.45l-7.72 7.72c-.78.78-.78 2.05 0 2.83L4 21.41c.39.39.9.59 1.41.59.51 0 1.02-.2 1.41-.59l7.78-7.78 2.81-2.81c.8-.78.8-2.07 0-2.86zM5.41 20L4 18.59l7.72-7.72 1.47 1.35L5.41 20z\"/>\n",
              "  </svg>\n",
              "      </button>\n",
              "      \n",
              "  <style>\n",
              "    .colab-df-container {\n",
              "      display:flex;\n",
              "      flex-wrap:wrap;\n",
              "      gap: 12px;\n",
              "    }\n",
              "\n",
              "    .colab-df-convert {\n",
              "      background-color: #E8F0FE;\n",
              "      border: none;\n",
              "      border-radius: 50%;\n",
              "      cursor: pointer;\n",
              "      display: none;\n",
              "      fill: #1967D2;\n",
              "      height: 32px;\n",
              "      padding: 0 0 0 0;\n",
              "      width: 32px;\n",
              "    }\n",
              "\n",
              "    .colab-df-convert:hover {\n",
              "      background-color: #E2EBFA;\n",
              "      box-shadow: 0px 1px 2px rgba(60, 64, 67, 0.3), 0px 1px 3px 1px rgba(60, 64, 67, 0.15);\n",
              "      fill: #174EA6;\n",
              "    }\n",
              "\n",
              "    [theme=dark] .colab-df-convert {\n",
              "      background-color: #3B4455;\n",
              "      fill: #D2E3FC;\n",
              "    }\n",
              "\n",
              "    [theme=dark] .colab-df-convert:hover {\n",
              "      background-color: #434B5C;\n",
              "      box-shadow: 0px 1px 3px 1px rgba(0, 0, 0, 0.15);\n",
              "      filter: drop-shadow(0px 1px 2px rgba(0, 0, 0, 0.3));\n",
              "      fill: #FFFFFF;\n",
              "    }\n",
              "  </style>\n",
              "\n",
              "      <script>\n",
              "        const buttonEl =\n",
              "          document.querySelector('#df-0394870e-0bd8-4b46-b577-e5dea5b86d31 button.colab-df-convert');\n",
              "        buttonEl.style.display =\n",
              "          google.colab.kernel.accessAllowed ? 'block' : 'none';\n",
              "\n",
              "        async function convertToInteractive(key) {\n",
              "          const element = document.querySelector('#df-0394870e-0bd8-4b46-b577-e5dea5b86d31');\n",
              "          const dataTable =\n",
              "            await google.colab.kernel.invokeFunction('convertToInteractive',\n",
              "                                                     [key], {});\n",
              "          if (!dataTable) return;\n",
              "\n",
              "          const docLinkHtml = 'Like what you see? Visit the ' +\n",
              "            '<a target=\"_blank\" href=https://colab.research.google.com/notebooks/data_table.ipynb>data table notebook</a>'\n",
              "            + ' to learn more about interactive tables.';\n",
              "          element.innerHTML = '';\n",
              "          dataTable['output_type'] = 'display_data';\n",
              "          await google.colab.output.renderOutput(dataTable, element);\n",
              "          const docLink = document.createElement('div');\n",
              "          docLink.innerHTML = docLinkHtml;\n",
              "          element.appendChild(docLink);\n",
              "        }\n",
              "      </script>\n",
              "    </div>\n",
              "  </div>\n",
              "  "
            ],
            "text/plain": [
              "          Mes  data science  machine learning  deep learning  categorical\n",
              "0  2004-01-01            12                18              4            1\n",
              "1  2004-02-01            12                21              2            1\n",
              "2  2004-03-01             9                21              2            1\n",
              "3  2004-04-01            10                16              4            1\n",
              "4  2004-05-01             7                14              3            1"
            ]
          },
          "metadata": {},
          "execution_count": 8
        }
      ]
    },
    {
      "cell_type": "code",
      "source": [
        "t_data.describe"
      ],
      "metadata": {
        "id": "nnfWzM8vUPhp",
        "colab": {
          "base_uri": "https://localhost:8080/"
        },
        "outputId": "317e330a-6f29-43d8-fdf9-65ff2e0e5fdb"
      },
      "execution_count": null,
      "outputs": [
        {
          "output_type": "execute_result",
          "data": {
            "text/plain": [
              "<bound method NDFrame.describe of             Mes  data science  machine learning  deep learning  categorical\n",
              "0    2004-01-01            12                18              4            1\n",
              "1    2004-02-01            12                21              2            1\n",
              "2    2004-03-01             9                21              2            1\n",
              "3    2004-04-01            10                16              4            1\n",
              "4    2004-05-01             7                14              3            1\n",
              "..          ...           ...               ...            ...          ...\n",
              "189  2019-10-01            90                98             98            0\n",
              "190  2019-11-01            87                97             96            0\n",
              "191  2019-12-01            81                89             91            0\n",
              "192  2020-01-01            94                94             93            1\n",
              "193  2020-02-01           100                99             99            1\n",
              "\n",
              "[194 rows x 5 columns]>"
            ]
          },
          "metadata": {},
          "execution_count": 9
        }
      ]
    },
    {
      "cell_type": "code",
      "source": [
        "t_data.info"
      ],
      "metadata": {
        "id": "9xM_Li4jUPkd",
        "colab": {
          "base_uri": "https://localhost:8080/"
        },
        "outputId": "ac0a4e5e-e556-413c-ea29-f075bf5183e5"
      },
      "execution_count": null,
      "outputs": [
        {
          "output_type": "execute_result",
          "data": {
            "text/plain": [
              "<bound method DataFrame.info of             Mes  data science  machine learning  deep learning  categorical\n",
              "0    2004-01-01            12                18              4            1\n",
              "1    2004-02-01            12                21              2            1\n",
              "2    2004-03-01             9                21              2            1\n",
              "3    2004-04-01            10                16              4            1\n",
              "4    2004-05-01             7                14              3            1\n",
              "..          ...           ...               ...            ...          ...\n",
              "189  2019-10-01            90                98             98            0\n",
              "190  2019-11-01            87                97             96            0\n",
              "191  2019-12-01            81                89             91            0\n",
              "192  2020-01-01            94                94             93            1\n",
              "193  2020-02-01           100                99             99            1\n",
              "\n",
              "[194 rows x 5 columns]>"
            ]
          },
          "metadata": {},
          "execution_count": 10
        }
      ]
    },
    {
      "cell_type": "code",
      "source": [
        ""
      ],
      "metadata": {
        "id": "9gFMhUT1tnYq"
      },
      "execution_count": null,
      "outputs": []
    },
    {
      "cell_type": "code",
      "source": [
        ""
      ],
      "metadata": {
        "id": "91sCQvEztnbI"
      },
      "execution_count": null,
      "outputs": []
    },
    {
      "cell_type": "code",
      "source": [
        " "
      ],
      "metadata": {
        "id": "DORa6-2stnei"
      },
      "execution_count": null,
      "outputs": []
    },
    {
      "cell_type": "code",
      "source": [
        "format_dict={'Mes':'{:%m-%Y}'}"
      ],
      "metadata": {
        "id": "RrCRlL11mXIc"
      },
      "execution_count": null,
      "outputs": []
    },
    {
      "cell_type": "code",
      "source": [
        ""
      ],
      "metadata": {
        "id": "EkNYIp2VmXx8"
      },
      "execution_count": null,
      "outputs": []
    },
    {
      "cell_type": "code",
      "source": [
        ""
      ],
      "metadata": {
        "id": "lcj7d1_0UPnV"
      },
      "execution_count": null,
      "outputs": []
    },
    {
      "cell_type": "code",
      "source": [
        "t_data.head().style.highlight_max(color = 'darkgreen').highlight_min(color ='#ff0000')"
      ],
      "metadata": {
        "id": "62woTOFKUPqP",
        "colab": {
          "base_uri": "https://localhost:8080/",
          "height": 206
        },
        "outputId": "1b4ec585-d332-4211-b1f0-33a048b6e99e"
      },
      "execution_count": null,
      "outputs": [
        {
          "output_type": "execute_result",
          "data": {
            "text/html": [
              "<style type=\"text/css\">\n",
              "#T_ea4fa_row0_col0, #T_ea4fa_row1_col3, #T_ea4fa_row2_col3, #T_ea4fa_row4_col1, #T_ea4fa_row4_col2 {\n",
              "  background-color: #ff0000;\n",
              "}\n",
              "#T_ea4fa_row0_col1, #T_ea4fa_row0_col3, #T_ea4fa_row1_col1, #T_ea4fa_row1_col2, #T_ea4fa_row2_col2, #T_ea4fa_row3_col3, #T_ea4fa_row4_col0 {\n",
              "  background-color: darkgreen;\n",
              "}\n",
              "#T_ea4fa_row0_col4, #T_ea4fa_row1_col4, #T_ea4fa_row2_col4, #T_ea4fa_row3_col4, #T_ea4fa_row4_col4 {\n",
              "  background-color: darkgreen;\n",
              "  background-color: #ff0000;\n",
              "}\n",
              "</style>\n",
              "<table id=\"T_ea4fa_\" class=\"dataframe\">\n",
              "  <thead>\n",
              "    <tr>\n",
              "      <th class=\"blank level0\" >&nbsp;</th>\n",
              "      <th class=\"col_heading level0 col0\" >Mes</th>\n",
              "      <th class=\"col_heading level0 col1\" >data science</th>\n",
              "      <th class=\"col_heading level0 col2\" >machine learning</th>\n",
              "      <th class=\"col_heading level0 col3\" >deep learning</th>\n",
              "      <th class=\"col_heading level0 col4\" >categorical</th>\n",
              "    </tr>\n",
              "  </thead>\n",
              "  <tbody>\n",
              "    <tr>\n",
              "      <th id=\"T_ea4fa_level0_row0\" class=\"row_heading level0 row0\" >0</th>\n",
              "      <td id=\"T_ea4fa_row0_col0\" class=\"data row0 col0\" >2004-01-01</td>\n",
              "      <td id=\"T_ea4fa_row0_col1\" class=\"data row0 col1\" >12</td>\n",
              "      <td id=\"T_ea4fa_row0_col2\" class=\"data row0 col2\" >18</td>\n",
              "      <td id=\"T_ea4fa_row0_col3\" class=\"data row0 col3\" >4</td>\n",
              "      <td id=\"T_ea4fa_row0_col4\" class=\"data row0 col4\" >1</td>\n",
              "    </tr>\n",
              "    <tr>\n",
              "      <th id=\"T_ea4fa_level0_row1\" class=\"row_heading level0 row1\" >1</th>\n",
              "      <td id=\"T_ea4fa_row1_col0\" class=\"data row1 col0\" >2004-02-01</td>\n",
              "      <td id=\"T_ea4fa_row1_col1\" class=\"data row1 col1\" >12</td>\n",
              "      <td id=\"T_ea4fa_row1_col2\" class=\"data row1 col2\" >21</td>\n",
              "      <td id=\"T_ea4fa_row1_col3\" class=\"data row1 col3\" >2</td>\n",
              "      <td id=\"T_ea4fa_row1_col4\" class=\"data row1 col4\" >1</td>\n",
              "    </tr>\n",
              "    <tr>\n",
              "      <th id=\"T_ea4fa_level0_row2\" class=\"row_heading level0 row2\" >2</th>\n",
              "      <td id=\"T_ea4fa_row2_col0\" class=\"data row2 col0\" >2004-03-01</td>\n",
              "      <td id=\"T_ea4fa_row2_col1\" class=\"data row2 col1\" >9</td>\n",
              "      <td id=\"T_ea4fa_row2_col2\" class=\"data row2 col2\" >21</td>\n",
              "      <td id=\"T_ea4fa_row2_col3\" class=\"data row2 col3\" >2</td>\n",
              "      <td id=\"T_ea4fa_row2_col4\" class=\"data row2 col4\" >1</td>\n",
              "    </tr>\n",
              "    <tr>\n",
              "      <th id=\"T_ea4fa_level0_row3\" class=\"row_heading level0 row3\" >3</th>\n",
              "      <td id=\"T_ea4fa_row3_col0\" class=\"data row3 col0\" >2004-04-01</td>\n",
              "      <td id=\"T_ea4fa_row3_col1\" class=\"data row3 col1\" >10</td>\n",
              "      <td id=\"T_ea4fa_row3_col2\" class=\"data row3 col2\" >16</td>\n",
              "      <td id=\"T_ea4fa_row3_col3\" class=\"data row3 col3\" >4</td>\n",
              "      <td id=\"T_ea4fa_row3_col4\" class=\"data row3 col4\" >1</td>\n",
              "    </tr>\n",
              "    <tr>\n",
              "      <th id=\"T_ea4fa_level0_row4\" class=\"row_heading level0 row4\" >4</th>\n",
              "      <td id=\"T_ea4fa_row4_col0\" class=\"data row4 col0\" >2004-05-01</td>\n",
              "      <td id=\"T_ea4fa_row4_col1\" class=\"data row4 col1\" >7</td>\n",
              "      <td id=\"T_ea4fa_row4_col2\" class=\"data row4 col2\" >14</td>\n",
              "      <td id=\"T_ea4fa_row4_col3\" class=\"data row4 col3\" >3</td>\n",
              "      <td id=\"T_ea4fa_row4_col4\" class=\"data row4 col4\" >1</td>\n",
              "    </tr>\n",
              "  </tbody>\n",
              "</table>\n"
            ],
            "text/plain": [
              "<pandas.io.formats.style.Styler at 0x7fba45c4c1d0>"
            ]
          },
          "metadata": {},
          "execution_count": 8
        }
      ]
    },
    {
      "cell_type": "code",
      "source": [
        "t_data.head(10).style.background_gradient(subset =['data science','machine learning'])"
      ],
      "metadata": {
        "id": "-mTjOoupUPtQ",
        "colab": {
          "base_uri": "https://localhost:8080/",
          "height": 363
        },
        "outputId": "f5073f2a-d738-4547-ce2f-e07e37c6e0ff"
      },
      "execution_count": null,
      "outputs": [
        {
          "output_type": "execute_result",
          "data": {
            "text/html": [
              "<style type=\"text/css\">\n",
              "#T_daae4_row0_col1, #T_daae4_row1_col1, #T_daae4_row1_col2, #T_daae4_row2_col2 {\n",
              "  background-color: #023858;\n",
              "  color: #f1f1f1;\n",
              "}\n",
              "#T_daae4_row0_col2 {\n",
              "  background-color: #509ac6;\n",
              "  color: #f1f1f1;\n",
              "}\n",
              "#T_daae4_row2_col1, #T_daae4_row5_col1, #T_daae4_row6_col1 {\n",
              "  background-color: #9cb9d9;\n",
              "  color: #000000;\n",
              "}\n",
              "#T_daae4_row3_col1, #T_daae4_row8_col1 {\n",
              "  background-color: #4295c3;\n",
              "  color: #f1f1f1;\n",
              "}\n",
              "#T_daae4_row3_col2, #T_daae4_row6_col2 {\n",
              "  background-color: #c4cbe3;\n",
              "  color: #000000;\n",
              "}\n",
              "#T_daae4_row4_col1, #T_daae4_row4_col2, #T_daae4_row7_col1, #T_daae4_row7_col2 {\n",
              "  background-color: #fff7fb;\n",
              "  color: #000000;\n",
              "}\n",
              "#T_daae4_row5_col2, #T_daae4_row8_col2, #T_daae4_row9_col2 {\n",
              "  background-color: #91b5d6;\n",
              "  color: #000000;\n",
              "}\n",
              "#T_daae4_row9_col1 {\n",
              "  background-color: #dbdaeb;\n",
              "  color: #000000;\n",
              "}\n",
              "</style>\n",
              "<table id=\"T_daae4_\" class=\"dataframe\">\n",
              "  <thead>\n",
              "    <tr>\n",
              "      <th class=\"blank level0\" >&nbsp;</th>\n",
              "      <th class=\"col_heading level0 col0\" >Mes</th>\n",
              "      <th class=\"col_heading level0 col1\" >data science</th>\n",
              "      <th class=\"col_heading level0 col2\" >machine learning</th>\n",
              "      <th class=\"col_heading level0 col3\" >deep learning</th>\n",
              "      <th class=\"col_heading level0 col4\" >categorical</th>\n",
              "    </tr>\n",
              "  </thead>\n",
              "  <tbody>\n",
              "    <tr>\n",
              "      <th id=\"T_daae4_level0_row0\" class=\"row_heading level0 row0\" >0</th>\n",
              "      <td id=\"T_daae4_row0_col0\" class=\"data row0 col0\" >2004-01-01</td>\n",
              "      <td id=\"T_daae4_row0_col1\" class=\"data row0 col1\" >12</td>\n",
              "      <td id=\"T_daae4_row0_col2\" class=\"data row0 col2\" >18</td>\n",
              "      <td id=\"T_daae4_row0_col3\" class=\"data row0 col3\" >4</td>\n",
              "      <td id=\"T_daae4_row0_col4\" class=\"data row0 col4\" >1</td>\n",
              "    </tr>\n",
              "    <tr>\n",
              "      <th id=\"T_daae4_level0_row1\" class=\"row_heading level0 row1\" >1</th>\n",
              "      <td id=\"T_daae4_row1_col0\" class=\"data row1 col0\" >2004-02-01</td>\n",
              "      <td id=\"T_daae4_row1_col1\" class=\"data row1 col1\" >12</td>\n",
              "      <td id=\"T_daae4_row1_col2\" class=\"data row1 col2\" >21</td>\n",
              "      <td id=\"T_daae4_row1_col3\" class=\"data row1 col3\" >2</td>\n",
              "      <td id=\"T_daae4_row1_col4\" class=\"data row1 col4\" >1</td>\n",
              "    </tr>\n",
              "    <tr>\n",
              "      <th id=\"T_daae4_level0_row2\" class=\"row_heading level0 row2\" >2</th>\n",
              "      <td id=\"T_daae4_row2_col0\" class=\"data row2 col0\" >2004-03-01</td>\n",
              "      <td id=\"T_daae4_row2_col1\" class=\"data row2 col1\" >9</td>\n",
              "      <td id=\"T_daae4_row2_col2\" class=\"data row2 col2\" >21</td>\n",
              "      <td id=\"T_daae4_row2_col3\" class=\"data row2 col3\" >2</td>\n",
              "      <td id=\"T_daae4_row2_col4\" class=\"data row2 col4\" >1</td>\n",
              "    </tr>\n",
              "    <tr>\n",
              "      <th id=\"T_daae4_level0_row3\" class=\"row_heading level0 row3\" >3</th>\n",
              "      <td id=\"T_daae4_row3_col0\" class=\"data row3 col0\" >2004-04-01</td>\n",
              "      <td id=\"T_daae4_row3_col1\" class=\"data row3 col1\" >10</td>\n",
              "      <td id=\"T_daae4_row3_col2\" class=\"data row3 col2\" >16</td>\n",
              "      <td id=\"T_daae4_row3_col3\" class=\"data row3 col3\" >4</td>\n",
              "      <td id=\"T_daae4_row3_col4\" class=\"data row3 col4\" >1</td>\n",
              "    </tr>\n",
              "    <tr>\n",
              "      <th id=\"T_daae4_level0_row4\" class=\"row_heading level0 row4\" >4</th>\n",
              "      <td id=\"T_daae4_row4_col0\" class=\"data row4 col0\" >2004-05-01</td>\n",
              "      <td id=\"T_daae4_row4_col1\" class=\"data row4 col1\" >7</td>\n",
              "      <td id=\"T_daae4_row4_col2\" class=\"data row4 col2\" >14</td>\n",
              "      <td id=\"T_daae4_row4_col3\" class=\"data row4 col3\" >3</td>\n",
              "      <td id=\"T_daae4_row4_col4\" class=\"data row4 col4\" >1</td>\n",
              "    </tr>\n",
              "    <tr>\n",
              "      <th id=\"T_daae4_level0_row5\" class=\"row_heading level0 row5\" >5</th>\n",
              "      <td id=\"T_daae4_row5_col0\" class=\"data row5 col0\" >2004-06-01</td>\n",
              "      <td id=\"T_daae4_row5_col1\" class=\"data row5 col1\" >9</td>\n",
              "      <td id=\"T_daae4_row5_col2\" class=\"data row5 col2\" >17</td>\n",
              "      <td id=\"T_daae4_row5_col3\" class=\"data row5 col3\" >3</td>\n",
              "      <td id=\"T_daae4_row5_col4\" class=\"data row5 col4\" >1</td>\n",
              "    </tr>\n",
              "    <tr>\n",
              "      <th id=\"T_daae4_level0_row6\" class=\"row_heading level0 row6\" >6</th>\n",
              "      <td id=\"T_daae4_row6_col0\" class=\"data row6 col0\" >2004-07-01</td>\n",
              "      <td id=\"T_daae4_row6_col1\" class=\"data row6 col1\" >9</td>\n",
              "      <td id=\"T_daae4_row6_col2\" class=\"data row6 col2\" >16</td>\n",
              "      <td id=\"T_daae4_row6_col3\" class=\"data row6 col3\" >3</td>\n",
              "      <td id=\"T_daae4_row6_col4\" class=\"data row6 col4\" >1</td>\n",
              "    </tr>\n",
              "    <tr>\n",
              "      <th id=\"T_daae4_level0_row7\" class=\"row_heading level0 row7\" >7</th>\n",
              "      <td id=\"T_daae4_row7_col0\" class=\"data row7 col0\" >2004-08-01</td>\n",
              "      <td id=\"T_daae4_row7_col1\" class=\"data row7 col1\" >7</td>\n",
              "      <td id=\"T_daae4_row7_col2\" class=\"data row7 col2\" >14</td>\n",
              "      <td id=\"T_daae4_row7_col3\" class=\"data row7 col3\" >3</td>\n",
              "      <td id=\"T_daae4_row7_col4\" class=\"data row7 col4\" >1</td>\n",
              "    </tr>\n",
              "    <tr>\n",
              "      <th id=\"T_daae4_level0_row8\" class=\"row_heading level0 row8\" >8</th>\n",
              "      <td id=\"T_daae4_row8_col0\" class=\"data row8 col0\" >2004-09-01</td>\n",
              "      <td id=\"T_daae4_row8_col1\" class=\"data row8 col1\" >10</td>\n",
              "      <td id=\"T_daae4_row8_col2\" class=\"data row8 col2\" >17</td>\n",
              "      <td id=\"T_daae4_row8_col3\" class=\"data row8 col3\" >4</td>\n",
              "      <td id=\"T_daae4_row8_col4\" class=\"data row8 col4\" >1</td>\n",
              "    </tr>\n",
              "    <tr>\n",
              "      <th id=\"T_daae4_level0_row9\" class=\"row_heading level0 row9\" >9</th>\n",
              "      <td id=\"T_daae4_row9_col0\" class=\"data row9 col0\" >2004-10-01</td>\n",
              "      <td id=\"T_daae4_row9_col1\" class=\"data row9 col1\" >8</td>\n",
              "      <td id=\"T_daae4_row9_col2\" class=\"data row9 col2\" >17</td>\n",
              "      <td id=\"T_daae4_row9_col3\" class=\"data row9 col3\" >4</td>\n",
              "      <td id=\"T_daae4_row9_col4\" class=\"data row9 col4\" >1</td>\n",
              "    </tr>\n",
              "  </tbody>\n",
              "</table>\n"
            ],
            "text/plain": [
              "<pandas.io.formats.style.Styler at 0x7fba4465e850>"
            ]
          },
          "metadata": {},
          "execution_count": 9
        }
      ]
    },
    {
      "cell_type": "code",
      "source": [
        "np.random.seed(2)\n",
        "np.random.randint(low=0, high=100, size=(5, 2))"
      ],
      "metadata": {
        "id": "msKV4ZPaUPwI",
        "colab": {
          "base_uri": "https://localhost:8080/"
        },
        "outputId": "ea8982b6-36a9-4169-c660-570c69a3784c"
      },
      "execution_count": null,
      "outputs": [
        {
          "output_type": "execute_result",
          "data": {
            "text/plain": [
              "array([[40, 15],\n",
              "       [72, 22],\n",
              "       [43, 82],\n",
              "       [75,  7],\n",
              "       [34, 49]])"
            ]
          },
          "metadata": {},
          "execution_count": 12
        }
      ]
    },
    {
      "cell_type": "code",
      "source": [
        "np.random.randn(5,2)"
      ],
      "metadata": {
        "id": "LPAl6vM0UPyr",
        "colab": {
          "base_uri": "https://localhost:8080/"
        },
        "outputId": "7f1efce8-1f65-45c9-cf7a-1a149e2ccb57"
      },
      "execution_count": null,
      "outputs": [
        {
          "output_type": "execute_result",
          "data": {
            "text/plain": [
              "array([[ 0.50288142, -1.24528809],\n",
              "       [-1.05795222, -0.90900761],\n",
              "       [ 0.55145404,  2.29220801],\n",
              "       [ 0.04153939, -1.11792545],\n",
              "       [ 0.53905832, -0.5961597 ]])"
            ]
          },
          "metadata": {},
          "execution_count": 13
        }
      ]
    },
    {
      "cell_type": "code",
      "source": [
        "a = np.arange(5)\n",
        "a"
      ],
      "metadata": {
        "id": "ehSfQhGyUP2E",
        "colab": {
          "base_uri": "https://localhost:8080/"
        },
        "outputId": "54b4bb88-88a9-4c1d-a62e-d9ba05b554d9"
      },
      "execution_count": null,
      "outputs": [
        {
          "output_type": "execute_result",
          "data": {
            "text/plain": [
              "array([0, 1, 2, 3, 4])"
            ]
          },
          "metadata": {},
          "execution_count": 14
        }
      ]
    },
    {
      "cell_type": "code",
      "source": [
        "b =(10 +(a*2))** 2/100\n",
        "b"
      ],
      "metadata": {
        "colab": {
          "base_uri": "https://localhost:8080/"
        },
        "id": "YVsgNlhOuc4a",
        "outputId": "4978dd95-85a4-48a0-ea7d-a125fe9bf34c"
      },
      "execution_count": null,
      "outputs": [
        {
          "output_type": "execute_result",
          "data": {
            "text/plain": [
              "array([1.  , 1.44, 1.96, 2.56, 3.24])"
            ]
          },
          "metadata": {},
          "execution_count": 17
        }
      ]
    },
    {
      "cell_type": "code",
      "source": [
        "a*b"
      ],
      "metadata": {
        "colab": {
          "base_uri": "https://localhost:8080/"
        },
        "id": "xmNoqsXzudFo",
        "outputId": "16b98b59-66ea-4d3a-d5a2-5f2d87e3d198"
      },
      "execution_count": null,
      "outputs": [
        {
          "output_type": "execute_result",
          "data": {
            "text/plain": [
              "array([ 0.  ,  1.44,  3.92,  7.68, 12.96])"
            ]
          },
          "metadata": {},
          "execution_count": 18
        }
      ]
    },
    {
      "cell_type": "code",
      "source": [
        "a >=2"
      ],
      "metadata": {
        "colab": {
          "base_uri": "https://localhost:8080/"
        },
        "id": "MwYKYBX3udId",
        "outputId": "515994ed-39fc-47ee-82ec-7b0df7a7d31e"
      },
      "execution_count": null,
      "outputs": [
        {
          "output_type": "execute_result",
          "data": {
            "text/plain": [
              "array([False, False,  True,  True,  True])"
            ]
          },
          "metadata": {},
          "execution_count": 19
        }
      ]
    },
    {
      "cell_type": "code",
      "source": [
        "a>b"
      ],
      "metadata": {
        "colab": {
          "base_uri": "https://localhost:8080/"
        },
        "id": "aexajL1EudLl",
        "outputId": "0fcd00a4-e0d2-4d91-999e-f89ac5f9a362"
      },
      "execution_count": null,
      "outputs": [
        {
          "output_type": "execute_result",
          "data": {
            "text/plain": [
              "array([False, False,  True,  True,  True])"
            ]
          },
          "metadata": {},
          "execution_count": 20
        }
      ]
    },
    {
      "cell_type": "code",
      "source": [
        "a [a>b]"
      ],
      "metadata": {
        "colab": {
          "base_uri": "https://localhost:8080/"
        },
        "id": "DUIGk1tHudOG",
        "outputId": "32842f78-ae1c-468a-9800-8f8d6112df63"
      },
      "execution_count": null,
      "outputs": [
        {
          "output_type": "execute_result",
          "data": {
            "text/plain": [
              "array([2, 3, 4])"
            ]
          },
          "metadata": {},
          "execution_count": 21
        }
      ]
    },
    {
      "cell_type": "code",
      "source": [
        "a.max()"
      ],
      "metadata": {
        "colab": {
          "base_uri": "https://localhost:8080/"
        },
        "id": "VtXWUSfTudQ4",
        "outputId": "e5b84ed8-04b8-442c-c1ca-05efb9baba16"
      },
      "execution_count": null,
      "outputs": [
        {
          "output_type": "execute_result",
          "data": {
            "text/plain": [
              "4"
            ]
          },
          "metadata": {},
          "execution_count": 23
        }
      ]
    },
    {
      "cell_type": "code",
      "source": [
        "a.std()"
      ],
      "metadata": {
        "colab": {
          "base_uri": "https://localhost:8080/"
        },
        "id": "jHtxVg2VudTs",
        "outputId": "a1b5253d-8e84-4b3b-8cd8-4b1726e02d36"
      },
      "execution_count": null,
      "outputs": [
        {
          "output_type": "execute_result",
          "data": {
            "text/plain": [
              "1.4142135623730951"
            ]
          },
          "metadata": {},
          "execution_count": 24
        }
      ]
    },
    {
      "cell_type": "code",
      "source": [
        "a.sum(\n",
        "  \n",
        ")"
      ],
      "metadata": {
        "colab": {
          "base_uri": "https://localhost:8080/"
        },
        "id": "PtekZateudWU",
        "outputId": "f81c62ce-f906-4be4-a46e-be0e138449c1"
      },
      "execution_count": null,
      "outputs": [
        {
          "output_type": "execute_result",
          "data": {
            "text/plain": [
              "10"
            ]
          },
          "metadata": {},
          "execution_count": 26
        }
      ]
    },
    {
      "cell_type": "code",
      "source": [
        "u = np.array([2,4,5,6])\n",
        "u"
      ],
      "metadata": {
        "colab": {
          "base_uri": "https://localhost:8080/"
        },
        "id": "kzk0Rh3uudYw",
        "outputId": "59cb73d2-c773-4593-d09c-96b0311bd0cd"
      },
      "execution_count": null,
      "outputs": [
        {
          "output_type": "execute_result",
          "data": {
            "text/plain": [
              "array([2, 4, 5, 6])"
            ]
          },
          "metadata": {},
          "execution_count": 3
        }
      ]
    },
    {
      "cell_type": "code",
      "source": [
        "v= np.array([1,0,0,2])"
      ],
      "metadata": {
        "id": "AV0ARIboudbo"
      },
      "execution_count": null,
      "outputs": []
    },
    {
      "cell_type": "code",
      "source": [
        "u + v"
      ],
      "metadata": {
        "colab": {
          "base_uri": "https://localhost:8080/"
        },
        "id": "jsqulP2NudeP",
        "outputId": "3f09b1d2-147b-4f54-db09-5e95fa621537"
      },
      "execution_count": null,
      "outputs": [
        {
          "output_type": "execute_result",
          "data": {
            "text/plain": [
              "array([3, 4, 5, 8])"
            ]
          },
          "metadata": {},
          "execution_count": 5
        }
      ]
    },
    {
      "cell_type": "markdown",
      "source": [
        "vector-vector multiplication"
      ],
      "metadata": {
        "id": "GXIMtDayWi2p"
      }
    },
    {
      "cell_type": "code",
      "source": [
        "u * v"
      ],
      "metadata": {
        "colab": {
          "base_uri": "https://localhost:8080/"
        },
        "id": "jM19YdeYudhq",
        "outputId": "594e7e90-0058-4fd6-8516-f3d3a02be0d3"
      },
      "execution_count": null,
      "outputs": [
        {
          "output_type": "execute_result",
          "data": {
            "text/plain": [
              "array([ 2,  0,  0, 12])"
            ]
          },
          "metadata": {},
          "execution_count": 6
        }
      ]
    },
    {
      "cell_type": "code",
      "source": [
        "from re import I\n",
        "def vector_vector_multiplication(u,v):\n",
        "  assert u.shape[0]==v.shape[0]\n",
        "\n",
        "  n = u.shape[0]\n",
        "\n",
        "  result = 0.0\n",
        "\n",
        "  for i in range(n): \n",
        "    result = result + u[i] * v[i]\n",
        "  return result\n",
        "\n",
        " "
      ],
      "metadata": {
        "id": "bPcyV0SsyWOE"
      },
      "execution_count": null,
      "outputs": []
    },
    {
      "cell_type": "code",
      "source": [
        "vector_vector_multiplication(u,v)"
      ],
      "metadata": {
        "colab": {
          "base_uri": "https://localhost:8080/"
        },
        "id": "EJb4QDqxyWQX",
        "outputId": "4a13aa0f-a91b-48f9-8c13-018bc25e20de"
      },
      "execution_count": null,
      "outputs": [
        {
          "output_type": "execute_result",
          "data": {
            "text/plain": [
              "14.0"
            ]
          },
          "metadata": {},
          "execution_count": 8
        }
      ]
    },
    {
      "cell_type": "markdown",
      "source": [
        "short cut for the codes above is on the next line."
      ],
      "metadata": {
        "id": "af71cg0Z7bTF"
      }
    },
    {
      "cell_type": "code",
      "source": [
        "u.dot(v)"
      ],
      "metadata": {
        "colab": {
          "base_uri": "https://localhost:8080/"
        },
        "id": "1gq0_XwEyWTW",
        "outputId": "39c302eb-cffb-4d9c-cf67-f840e0b6a1d3"
      },
      "execution_count": null,
      "outputs": [
        {
          "output_type": "execute_result",
          "data": {
            "text/plain": [
              "14"
            ]
          },
          "metadata": {},
          "execution_count": 9
        }
      ]
    },
    {
      "cell_type": "code",
      "source": [
        "U = np.array([\n",
        "              [2,4,5,6],\n",
        "              [1,2,1,2],\n",
        "              [3,1,2,1]])"
      ],
      "metadata": {
        "id": "u4_fL5NTyWV_"
      },
      "execution_count": null,
      "outputs": []
    },
    {
      "cell_type": "code",
      "source": [
        "def matrix_vector_multiplication(U,v):\n",
        "  assert U.shape[1]==v.shape[0]\n",
        "\n",
        "  num_rows =U.shape[0]\n",
        "  result =np.zeros(num_rows)\n",
        "\n",
        "  for i in range(num_rows):\n",
        "    result[i] = vector_vector_multiplication(U[i],v)\n",
        "\n",
        "  return result  "
      ],
      "metadata": {
        "id": "uvwXYOl1-BvM"
      },
      "execution_count": null,
      "outputs": []
    },
    {
      "cell_type": "code",
      "source": [
        "matrix_vector_multiplication(U,v)"
      ],
      "metadata": {
        "colab": {
          "base_uri": "https://localhost:8080/"
        },
        "id": "br2Fv5_u-S9P",
        "outputId": "06aa5263-31d4-43d9-fdc8-7a5ed4ffc446"
      },
      "execution_count": null,
      "outputs": [
        {
          "output_type": "execute_result",
          "data": {
            "text/plain": [
              "array([14.,  5.,  5.])"
            ]
          },
          "metadata": {},
          "execution_count": 12
        }
      ]
    },
    {
      "cell_type": "code",
      "source": [
        "U.dot(v)"
      ],
      "metadata": {
        "colab": {
          "base_uri": "https://localhost:8080/"
        },
        "id": "1BRAtG-T-hFK",
        "outputId": "92c3e366-65d3-4c50-815c-ab6828f839e2"
      },
      "execution_count": null,
      "outputs": [
        {
          "output_type": "execute_result",
          "data": {
            "text/plain": [
              "array([14,  5,  5])"
            ]
          },
          "metadata": {},
          "execution_count": 13
        }
      ]
    },
    {
      "cell_type": "code",
      "source": [
        "V = np.array([\n",
        "              [1,1,2],\n",
        "              [0,0.5,1],\n",
        "              [0,2,1],\n",
        "              [2,1,0],\n",
        "])"
      ],
      "metadata": {
        "id": "uJCIPqzdyWYs"
      },
      "execution_count": null,
      "outputs": []
    },
    {
      "cell_type": "code",
      "source": [
        "def matrix_matrix_multiplication(U,V):\n",
        "    assert U.shape[1]==V.shape[0]\n",
        "\n",
        "    num_rows =U.shape[0]\n",
        "    num_cols = V.shape[1]\n",
        "\n",
        "    result =np.zeros((num_rows, num_cols))\n",
        "\n",
        "    for i in range(num_cols):\n",
        "      vi =V[:,i]\n",
        "      Uvi = matrix_vector_multiplication (U,vi)\n",
        "      result[:, i] = Uvi\n",
        "\n",
        "      return result  "
      ],
      "metadata": {
        "id": "aAN6XQaFyWby"
      },
      "execution_count": null,
      "outputs": []
    },
    {
      "cell_type": "code",
      "source": [
        "matrix_matrix_multiplication(U, V)"
      ],
      "metadata": {
        "colab": {
          "base_uri": "https://localhost:8080/"
        },
        "id": "Ydki7v9QI9CS",
        "outputId": "2399900c-217f-4013-e7f6-423392b36719"
      },
      "execution_count": null,
      "outputs": [
        {
          "output_type": "execute_result",
          "data": {
            "text/plain": [
              "array([[14.,  0.,  0.],\n",
              "       [ 5.,  0.,  0.],\n",
              "       [ 5.,  0.,  0.]])"
            ]
          },
          "metadata": {},
          "execution_count": 16
        }
      ]
    },
    {
      "cell_type": "code",
      "source": [
        "U.dot(V)"
      ],
      "metadata": {
        "colab": {
          "base_uri": "https://localhost:8080/"
        },
        "id": "bDbLFtXrI9FT",
        "outputId": "7eaae19d-4535-42bf-d8e0-1dff3262172f"
      },
      "execution_count": null,
      "outputs": [
        {
          "output_type": "execute_result",
          "data": {
            "text/plain": [
              "array([[14. , 20. , 13. ],\n",
              "       [ 5. ,  6. ,  5. ],\n",
              "       [ 5. ,  8.5,  9. ]])"
            ]
          },
          "metadata": {},
          "execution_count": 17
        }
      ]
    },
    {
      "cell_type": "code",
      "source": [
        "dct = {'ID': {0: 23, 1: 43, 2: 12, 3: 13,  \n",
        "\n",
        "              4: 67, 5: 89, 6: 90, 7: 56,  \n",
        "\n",
        "              8: 34},  \n",
        "\n",
        "       'Name': {0: 'Ram', 1: 'Deep', 2: 'Yash', \n",
        "\n",
        "                3: 'Aman', 4: 'Arjun', 5: 'Aditya', \n",
        "\n",
        "                6: 'Divya', 7: 'Chalsea', \n",
        "\n",
        "                8: 'Akash' },  \n",
        "\n",
        "       'Marks': {0: 89, 1: 97, 2: 45, 3: 78, \n",
        "\n",
        "                 4: 56, 5: 76, 6: 100, 7: 87, \n",
        "\n",
        "                 8: 81},  \n",
        "\n",
        "       'Grade': {0: 'B', 1: 'A', 2: 'F', 3: 'C', \n",
        "\n",
        "                 4: 'E', 5: 'C', 6: 'A', 7: 'B', \n",
        "\n",
        "                 8: 'B'} \n",
        "\n",
        "      } \n",
        "\n",
        "# forming dataframe and printing \n",
        "\n",
        "data = pd.DataFrame(dct) \n",
        "\n",
        "print(data) \n",
        "\n",
        "# forming ProfileReport and save \n",
        "\n",
        "# as output.html file \n"
      ],
      "metadata": {
        "colab": {
          "base_uri": "https://localhost:8080/"
        },
        "id": "mhBBLaDjI9H4",
        "outputId": "0e2948cc-d93d-401c-be05-1fcdd5a2faef"
      },
      "execution_count": null,
      "outputs": [
        {
          "output_type": "stream",
          "name": "stdout",
          "text": [
            "   ID     Name  Marks Grade\n",
            "0  23      Ram     89     B\n",
            "1  43     Deep     97     A\n",
            "2  12     Yash     45     F\n",
            "3  13     Aman     78     C\n",
            "4  67    Arjun     56     E\n",
            "5  89   Aditya     76     C\n",
            "6  90    Divya    100     A\n",
            "7  56  Chalsea     87     B\n",
            "8  34    Akash     81     B\n"
          ]
        }
      ]
    },
    {
      "cell_type": "code",
      "source": [
        "profile = pp.ProfileReport(data) \n",
        "\n",
        "profile.to_file(\"output.html\")\n"
      ],
      "metadata": {
        "colab": {
          "base_uri": "https://localhost:8080/",
          "height": 359
        },
        "id": "RGgc7BeMI9LL",
        "outputId": "9154d10f-2b7f-4d3b-a65c-005d3e99b8cb"
      },
      "execution_count": null,
      "outputs": [
        {
          "output_type": "error",
          "ename": "TypeError",
          "evalue": "ignored",
          "traceback": [
            "\u001b[0;31m---------------------------------------------------------------------------\u001b[0m",
            "\u001b[0;31mTypeError\u001b[0m                                 Traceback (most recent call last)",
            "\u001b[0;32m<ipython-input-28-22712c67ac44>\u001b[0m in \u001b[0;36m<module>\u001b[0;34m()\u001b[0m\n\u001b[0;32m----> 1\u001b[0;31m \u001b[0mprofile\u001b[0m \u001b[0;34m=\u001b[0m \u001b[0mpp\u001b[0m\u001b[0;34m.\u001b[0m\u001b[0mProfileReport\u001b[0m\u001b[0;34m(\u001b[0m\u001b[0mdata\u001b[0m\u001b[0;34m)\u001b[0m\u001b[0;34m\u001b[0m\u001b[0;34m\u001b[0m\u001b[0m\n\u001b[0m\u001b[1;32m      2\u001b[0m \u001b[0;34m\u001b[0m\u001b[0m\n\u001b[1;32m      3\u001b[0m \u001b[0mprofile\u001b[0m\u001b[0;34m.\u001b[0m\u001b[0mto_file\u001b[0m\u001b[0;34m(\u001b[0m\u001b[0;34m\"output.html\"\u001b[0m\u001b[0;34m)\u001b[0m\u001b[0;34m\u001b[0m\u001b[0;34m\u001b[0m\u001b[0m\n",
            "\u001b[0;32m/usr/local/lib/python3.7/dist-packages/pandas_profiling/__init__.py\u001b[0m in \u001b[0;36m__init__\u001b[0;34m(self, df, **kwargs)\u001b[0m\n\u001b[1;32m     64\u001b[0m         \u001b[0msample\u001b[0m \u001b[0;34m=\u001b[0m \u001b[0mkwargs\u001b[0m\u001b[0;34m.\u001b[0m\u001b[0mget\u001b[0m\u001b[0;34m(\u001b[0m\u001b[0;34m'sample'\u001b[0m\u001b[0;34m,\u001b[0m \u001b[0mdf\u001b[0m\u001b[0;34m.\u001b[0m\u001b[0mhead\u001b[0m\u001b[0;34m(\u001b[0m\u001b[0;34m)\u001b[0m\u001b[0;34m)\u001b[0m\u001b[0;34m\u001b[0m\u001b[0;34m\u001b[0m\u001b[0m\n\u001b[1;32m     65\u001b[0m \u001b[0;34m\u001b[0m\u001b[0m\n\u001b[0;32m---> 66\u001b[0;31m         \u001b[0mdescription_set\u001b[0m \u001b[0;34m=\u001b[0m \u001b[0mdescribe\u001b[0m\u001b[0;34m(\u001b[0m\u001b[0mdf\u001b[0m\u001b[0;34m,\u001b[0m \u001b[0;34m**\u001b[0m\u001b[0mkwargs\u001b[0m\u001b[0;34m)\u001b[0m\u001b[0;34m\u001b[0m\u001b[0;34m\u001b[0m\u001b[0m\n\u001b[0m\u001b[1;32m     67\u001b[0m \u001b[0;34m\u001b[0m\u001b[0m\n\u001b[1;32m     68\u001b[0m         self.html = to_html(sample,\n",
            "\u001b[0;32m/usr/local/lib/python3.7/dist-packages/pandas_profiling/describe.py\u001b[0m in \u001b[0;36mdescribe\u001b[0;34m(df, bins, check_correlation, correlation_threshold, correlation_overrides, check_recoded, pool_size, **kwargs)\u001b[0m\n\u001b[1;32m    390\u001b[0m             \u001b[0;32mif\u001b[0m \u001b[0mname\u001b[0m \u001b[0;32mnot\u001b[0m \u001b[0;32min\u001b[0m \u001b[0mnames\u001b[0m\u001b[0;34m:\u001b[0m\u001b[0;34m\u001b[0m\u001b[0;34m\u001b[0m\u001b[0m\n\u001b[1;32m    391\u001b[0m                 \u001b[0mnames\u001b[0m\u001b[0;34m.\u001b[0m\u001b[0mappend\u001b[0m\u001b[0;34m(\u001b[0m\u001b[0mname\u001b[0m\u001b[0;34m)\u001b[0m\u001b[0;34m\u001b[0m\u001b[0;34m\u001b[0m\u001b[0m\n\u001b[0;32m--> 392\u001b[0;31m     \u001b[0mvariable_stats\u001b[0m \u001b[0;34m=\u001b[0m \u001b[0mpd\u001b[0m\u001b[0;34m.\u001b[0m\u001b[0mconcat\u001b[0m\u001b[0;34m(\u001b[0m\u001b[0mldesc\u001b[0m\u001b[0;34m,\u001b[0m \u001b[0mjoin_axes\u001b[0m\u001b[0;34m=\u001b[0m\u001b[0mpd\u001b[0m\u001b[0;34m.\u001b[0m\u001b[0mIndex\u001b[0m\u001b[0;34m(\u001b[0m\u001b[0;34m[\u001b[0m\u001b[0mnames\u001b[0m\u001b[0;34m]\u001b[0m\u001b[0;34m)\u001b[0m\u001b[0;34m,\u001b[0m \u001b[0maxis\u001b[0m\u001b[0;34m=\u001b[0m\u001b[0;36m1\u001b[0m\u001b[0;34m)\u001b[0m\u001b[0;34m\u001b[0m\u001b[0;34m\u001b[0m\u001b[0m\n\u001b[0m\u001b[1;32m    393\u001b[0m     \u001b[0mvariable_stats\u001b[0m\u001b[0;34m.\u001b[0m\u001b[0mcolumns\u001b[0m\u001b[0;34m.\u001b[0m\u001b[0mnames\u001b[0m \u001b[0;34m=\u001b[0m \u001b[0mdf\u001b[0m\u001b[0;34m.\u001b[0m\u001b[0mcolumns\u001b[0m\u001b[0;34m.\u001b[0m\u001b[0mnames\u001b[0m\u001b[0;34m\u001b[0m\u001b[0;34m\u001b[0m\u001b[0m\n\u001b[1;32m    394\u001b[0m \u001b[0;34m\u001b[0m\u001b[0m\n",
            "\u001b[0;32m/usr/local/lib/python3.7/dist-packages/pandas/util/_decorators.py\u001b[0m in \u001b[0;36mwrapper\u001b[0;34m(*args, **kwargs)\u001b[0m\n\u001b[1;32m    309\u001b[0m                     \u001b[0mstacklevel\u001b[0m\u001b[0;34m=\u001b[0m\u001b[0mstacklevel\u001b[0m\u001b[0;34m,\u001b[0m\u001b[0;34m\u001b[0m\u001b[0;34m\u001b[0m\u001b[0m\n\u001b[1;32m    310\u001b[0m                 )\n\u001b[0;32m--> 311\u001b[0;31m             \u001b[0;32mreturn\u001b[0m \u001b[0mfunc\u001b[0m\u001b[0;34m(\u001b[0m\u001b[0;34m*\u001b[0m\u001b[0margs\u001b[0m\u001b[0;34m,\u001b[0m \u001b[0;34m**\u001b[0m\u001b[0mkwargs\u001b[0m\u001b[0;34m)\u001b[0m\u001b[0;34m\u001b[0m\u001b[0;34m\u001b[0m\u001b[0m\n\u001b[0m\u001b[1;32m    312\u001b[0m \u001b[0;34m\u001b[0m\u001b[0m\n\u001b[1;32m    313\u001b[0m         \u001b[0;32mreturn\u001b[0m \u001b[0mwrapper\u001b[0m\u001b[0;34m\u001b[0m\u001b[0;34m\u001b[0m\u001b[0m\n",
            "\u001b[0;31mTypeError\u001b[0m: concat() got an unexpected keyword argument 'join_axes'"
          ]
        }
      ]
    },
    {
      "cell_type": "code",
      "source": [
        "plt.plot(t_data['Mes'], t_data['data science'],label='data science')\n",
        "%matplotlib inline"
      ],
      "metadata": {
        "id": "C5dDbJrSyWfN"
      },
      "execution_count": null,
      "outputs": []
    },
    {
      "cell_type": "code",
      "source": [
        "plt.plot(t_data['Mes'], t_data['data science'],label='data science')\n",
        "plt.plot(t_data['Mes'], t_data['machine learning'],label='data science')\n",
        "plt.plot(t_data['Mes'], t_data['deep learning'],label='deep learaning')"
      ],
      "metadata": {
        "colab": {
          "base_uri": "https://localhost:8080/",
          "height": 284
        },
        "id": "GJTXZrAb7LaK",
        "outputId": "d0aca3ba-a33f-4741-9eb4-a4534b0c081e"
      },
      "execution_count": null,
      "outputs": [
        {
          "output_type": "execute_result",
          "data": {
            "text/plain": [
              "[<matplotlib.lines.Line2D at 0x7f47f569c4d0>]"
            ]
          },
          "metadata": {},
          "execution_count": 12
        },
        {
          "output_type": "display_data",
          "data": {
            "image/png": "[encoded data removed]",
            "text/plain": [
              "<Figure size 432x288 with 1 Axes>"
            ]
          },
          "metadata": {
            "needs_background": "light"
          }
        }
      ]
    },
    {
      "cell_type": "code",
      "source": [
        "plt.plot(t_data['Mes'], t_data['data science'],label='data science')\n",
        "plt.plot(t_data['Mes'], t_data['machine learning'],label='machine learning')\n",
        "plt.plot(t_data['Mes'], t_data['deep learning'],label='deep learaning')\n",
        "plt.xlabel('Date')\n",
        "plt.ylabel('Popularity')\n",
        "plt.title('Popularity of AI terms by date')\n",
        "plt.grid(True)\n",
        "plt.legend()"
      ],
      "metadata": {
        "colab": {
          "base_uri": "https://localhost:8080/",
          "height": 316
        },
        "id": "ddiwTav47LdB",
        "outputId": "34e5b31a-0ba9-4a1d-96fb-4127d644b15a"
      },
      "execution_count": null,
      "outputs": [
        {
          "output_type": "execute_result",
          "data": {
            "text/plain": [
              "<matplotlib.legend.Legend at 0x7f19a92f5dd0>"
            ]
          },
          "metadata": {},
          "execution_count": 19
        },
        {
          "output_type": "display_data",
          "data": {
            "image/png": "[encoded data removed]",
            "text/plain": [
              "<Figure size 432x288 with 1 Axes>"
            ]
          },
          "metadata": {
            "needs_background": "light"
          }
        }
      ]
    },
    {
      "cell_type": "code",
      "source": [
        "fig, axes =plt.subplots(2,2)\n",
        "axes[0,0].hist(t_data['data science'])\n",
        "axes[0,1].scatter(t_data['Mes'],t_data['data science'])\n",
        "axes[1,0].plot(t_data['Mes'],t_data['machine learning'])\n",
        "axes[1,1].plot(t_data['Mes'],t_data['deep learning'])"
      ],
      "metadata": {
        "colab": {
          "base_uri": "https://localhost:8080/",
          "height": 287
        },
        "id": "KFHgJzhJ7Lgu",
        "outputId": "fa1e5f37-3792-42bb-8dd3-8a4815dfb897"
      },
      "execution_count": null,
      "outputs": [
        {
          "output_type": "execute_result",
          "data": {
            "text/plain": [
              "[<matplotlib.lines.Line2D at 0x7f19a7f71850>]"
            ]
          },
          "metadata": {},
          "execution_count": 21
        },
        {
          "output_type": "display_data",
          "data": {
            "image/png": "[encoded data removed]",
            "text/plain": [
              "<Figure size 432x288 with 4 Axes>"
            ]
          },
          "metadata": {
            "needs_background": "light"
          }
        }
      ]
    },
    {
      "cell_type": "code",
      "source": [
        "plt.plot(t_data['Mes'], t_data['data science'],'r-')\n",
        "plt.plot(t_data['Mes'], t_data['data science']*2,'bs')\n",
        "plt.plot(t_data['Mes'], t_data['data science']*3,'g^')"
      ],
      "metadata": {
        "colab": {
          "base_uri": "https://localhost:8080/",
          "height": 508
        },
        "id": "8o3AmdNuAUOX",
        "outputId": "570b7b02-6e9d-46ef-f660-1d1291fe3500"
      },
      "execution_count": null,
      "outputs": [
        {
          "output_type": "execute_result",
          "data": {
            "text/plain": [
              "[<matplotlib.lines.Line2D at 0x7f19a6ffc7d0>]"
            ]
          },
          "metadata": {},
          "execution_count": 29
        },
        {
          "output_type": "display_data",
          "data": {
            "image/png": "[encoded data removed]",
            "text/plain": [
              "<Figure size 800x550 with 1 Axes>"
            ]
          },
          "metadata": {}
        }
      ]
    },
    {
      "cell_type": "code",
      "source": [
        "plt.scatter(t_data['data science'],t_data['machine learning'])"
      ],
      "metadata": {
        "colab": {
          "base_uri": "https://localhost:8080/",
          "height": 508
        },
        "id": "lvWGMnbTAURI",
        "outputId": "433509b2-d9d3-4127-b658-3af057004880"
      },
      "execution_count": null,
      "outputs": [
        {
          "output_type": "execute_result",
          "data": {
            "text/plain": [
              "<matplotlib.collections.PathCollection at 0x7f19a6d3ab50>"
            ]
          },
          "metadata": {},
          "execution_count": 30
        },
        {
          "output_type": "display_data",
          "data": {
            "image/png": "[encoded data removed]",
            "text/plain": [
              "<Figure size 800x550 with 1 Axes>"
            ]
          },
          "metadata": {}
        }
      ]
    },
    {
      "cell_type": "code",
      "source": [
        "plt.bar(t_data['Mes'],t_data['machine learning'],width=28)"
      ],
      "metadata": {
        "colab": {
          "base_uri": "https://localhost:8080/",
          "height": 508
        },
        "id": "4Hmlq2k0AUUG",
        "outputId": "390ea78a-4130-4c59-8826-2a86a5a52592"
      },
      "execution_count": null,
      "outputs": [
        {
          "output_type": "execute_result",
          "data": {
            "text/plain": [
              "<BarContainer object of 194 artists>"
            ]
          },
          "metadata": {},
          "execution_count": 31
        },
        {
          "output_type": "display_data",
          "data": {
            "image/png": "[encoded data removed]",
            "text/plain": [
              "<Figure size 800x550 with 1 Axes>"
            ]
          },
          "metadata": {}
        }
      ]
    },
    {
      "cell_type": "markdown",
      "source": [
        ""
      ],
      "metadata": {
        "id": "dJGQUjSvTvgD"
      }
    },
    {
      "cell_type": "code",
      "source": [
        "plt.plot(t_data['Mes'], t_data['data science'],label='data science')\n",
        "plt.plot(t_data['Mes'], t_data['machine learning'],label='machine learning')\n",
        "plt.plot(t_data['Mes'], t_data['deep learning'],label='deep learaning')\n",
        "plt.xlabel('Date')\n",
        "plt.ylabel('Popularity')\n",
        "plt.title('Popularity of AI terms by date')\n",
        "plt.grid(True)\n",
        "plt.text(x='2010-01-01',y=80,s=r'$\\lambda=1, r^2=0.8$')\n",
        "plt.annotate('Notice something?',xy=('2014-01-01',30),xytext=('2006-01-01',50),arrowprops={'facecolor':'red','shrink':0.05})"
      ],
      "metadata": {
        "colab": {
          "base_uri": "https://localhost:8080/",
          "height": 313
        },
        "id": "IOtcssJBAUWn",
        "outputId": "05391209-69de-4d9c-be24-46c4b30fcfb1"
      },
      "execution_count": null,
      "outputs": [
        {
          "output_type": "execute_result",
          "data": {
            "text/plain": [
              "Text(2006-01-01, 50, 'Notice something?')"
            ]
          },
          "metadata": {},
          "execution_count": 13
        },
        {
          "output_type": "display_data",
          "data": {
            "image/png": "[encoded data removed]",
            "text/plain": [
              "<Figure size 432x288 with 1 Axes>"
            ]
          },
          "metadata": {
            "needs_background": "light"
          }
        }
      ]
    },
    {
      "cell_type": "markdown",
      "source": [
        "FOLIUM"
      ],
      "metadata": {
        "id": "gWdMOdErOhft"
      }
    },
    {
      "cell_type": "code",
      "source": [
        "import folium"
      ],
      "metadata": {
        "id": "2iWSVqxAAUZm"
      },
      "execution_count": 1,
      "outputs": []
    },
    {
      "cell_type": "markdown",
      "source": [
        ""
      ],
      "metadata": {
        "id": "o1_i4B76Sga0"
      }
    },
    {
      "cell_type": "code",
      "source": [
        "m1 = folium.Map(location=[41.38,2.17],tiles='openstreetmap',zoom_start=1)\n",
        "m1.save('map1.html')"
      ],
      "metadata": {
        "id": "9NkpN4YfAUcv"
      },
      "execution_count": 2,
      "outputs": []
    },
    {
      "cell_type": "code",
      "source": [
        "m2 = folium.Map(location=[41.38,2.17],tiles='openstreetmap',zoom_start=16)\n",
        "folium.Marker([41.38,2.176], popup='<i>You can use whateve HTML code you want</i>',tooltip='click here').add_to(m2)\n",
        "folium.Marker([41.38,2.174], popup='<b>You can use whateve HTML code you want<b>',tooltip='dont click here').add_to(m2)\n",
        "m2.save('map2.html')"
      ],
      "metadata": {
        "id": "7wnz5GioAUho"
      },
      "execution_count": 3,
      "outputs": []
    },
    {
      "cell_type": "code",
      "source": [
        "m2"
      ],
      "metadata": {
        "id": "HC2GodF4AUkx",
        "colab": {
          "base_uri": "https://localhost:8080/",
          "height": 838
        },
        "outputId": "bac7a163-a8b8-4621-95cd-604eef605af6"
      },
      "execution_count": 4,
      "outputs": [
        {
          "output_type": "execute_result",
          "data": {
            "text/html": [
              "<div style=\"width:100%;\"><div style=\"position:relative;width:100%;height:0;padding-bottom:60%;\"><span style=\"color:#565656\">Make this Notebook Trusted to load map: File -> Trust Notebook</span><iframe src=\"about:blank\" style=\"position:absolute;width:100%;height:100%;left:0;top:0;border:none !important;\" data-html=%3C%21DOCTYPE%20html%3E%0A%3Chead%3E%20%20%20%20%0A%20%20%20%20%3Cmeta%20http-equiv%3D%22content-type%22%20content%3D%22text/html%3B%20charset%3DUTF-8%22%20/%3E%0A%20%20%20%20%3Cscript%3EL_PREFER_CANVAS%3Dfalse%3B%20L_NO_TOUCH%3Dfalse%3B%20L_DISABLE_3D%3Dfalse%3B%3C/script%3E%0A%20%20%20%20%3Cscript%20src%3D%22https%3A//cdn.jsdelivr.net/npm/leaflet%401.4.0/dist/leaflet.js%22%3E%3C/script%3E%0A%20%20%20%20%3Cscript%20src%3D%22https%3A//code.jquery.com/jquery-1.12.4.min.js%22%3E%3C/script%3E%0A%20%20%20%20%3Cscript%20src%3D%22https%3A//maxcdn.bootstrapcdn.com/bootstrap/3.2.0/js/bootstrap.min.js%22%3E%3C/script%3E%0A%20%20%20%20%3Cscript%20src%3D%22https%3A//cdnjs.cloudflare.com/ajax/libs/Leaflet.awesome-markers/2.0.2/leaflet.awesome-markers.js%22%3E%3C/script%3E%0A%20%20%20%20%3Clink%20rel%3D%22stylesheet%22%20href%3D%22https%3A//cdn.jsdelivr.net/npm/leaflet%401.4.0/dist/leaflet.css%22/%3E%0A%20%20%20%20%3Clink%20rel%3D%22stylesheet%22%20href%3D%22https%3A//maxcdn.bootstrapcdn.com/bootstrap/3.2.0/css/bootstrap.min.css%22/%3E%0A%20%20%20%20%3Clink%20rel%3D%22stylesheet%22%20href%3D%22https%3A//maxcdn.bootstrapcdn.com/bootstrap/3.2.0/css/bootstrap-theme.min.css%22/%3E%0A%20%20%20%20%3Clink%20rel%3D%22stylesheet%22%20href%3D%22https%3A//maxcdn.bootstrapcdn.com/font-awesome/4.6.3/css/font-awesome.min.css%22/%3E%0A%20%20%20%20%3Clink%20rel%3D%22stylesheet%22%20href%3D%22https%3A//cdnjs.cloudflare.com/ajax/libs/Leaflet.awesome-markers/2.0.2/leaflet.awesome-markers.css%22/%3E%0A%20%20%20%20%3Clink%20rel%3D%22stylesheet%22%20href%3D%22https%3A//rawcdn.githack.com/python-visualization/folium/master/folium/templates/leaflet.awesome.rotate.css%22/%3E%0A%20%20%20%20%3Cstyle%3Ehtml%2C%20body%20%7Bwidth%3A%20100%25%3Bheight%3A%20100%25%3Bmargin%3A%200%3Bpadding%3A%200%3B%7D%3C/style%3E%0A%20%20%20%20%3Cstyle%3E%23map%20%7Bposition%3Aabsolute%3Btop%3A0%3Bbottom%3A0%3Bright%3A0%3Bleft%3A0%3B%7D%3C/style%3E%0A%20%20%20%20%0A%20%20%20%20%3Cmeta%20name%3D%22viewport%22%20content%3D%22width%3Ddevice-width%2C%0A%20%20%20%20%20%20%20%20initial-scale%3D1.0%2C%20maximum-scale%3D1.0%2C%20user-scalable%3Dno%22%20/%3E%0A%20%20%20%20%3Cstyle%3E%23map_481517d599134ae5b6f1c1897eff50b4%20%7B%0A%20%20%20%20%20%20%20%20position%3A%20relative%3B%0A%20%20%20%20%20%20%20%20width%3A%20100.0%25%3B%0A%20%20%20%20%20%20%20%20height%3A%20100.0%25%3B%0A%20%20%20%20%20%20%20%20left%3A%200.0%25%3B%0A%20%20%20%20%20%20%20%20top%3A%200.0%25%3B%0A%20%20%20%20%20%20%20%20%7D%0A%20%20%20%20%3C/style%3E%0A%3C/head%3E%0A%3Cbody%3E%20%20%20%20%0A%20%20%20%20%0A%20%20%20%20%3Cdiv%20class%3D%22folium-map%22%20id%3D%22map_481517d599134ae5b6f1c1897eff50b4%22%20%3E%3C/div%3E%0A%3C/body%3E%0A%3Cscript%3E%20%20%20%20%0A%20%20%20%20%0A%20%20%20%20%0A%20%20%20%20%20%20%20%20var%20bounds%20%3D%20null%3B%0A%20%20%20%20%0A%0A%20%20%20%20var%20map_481517d599134ae5b6f1c1897eff50b4%20%3D%20L.map%28%0A%20%20%20%20%20%20%20%20%27map_481517d599134ae5b6f1c1897eff50b4%27%2C%20%7B%0A%20%20%20%20%20%20%20%20center%3A%20%5B41.38%2C%202.17%5D%2C%0A%20%20%20%20%20%20%20%20zoom%3A%2016%2C%0A%20%20%20%20%20%20%20%20maxBounds%3A%20bounds%2C%0A%20%20%20%20%20%20%20%20layers%3A%20%5B%5D%2C%0A%20%20%20%20%20%20%20%20worldCopyJump%3A%20false%2C%0A%20%20%20%20%20%20%20%20crs%3A%20L.CRS.EPSG3857%2C%0A%20%20%20%20%20%20%20%20zoomControl%3A%20true%2C%0A%20%20%20%20%20%20%20%20%7D%29%3B%0A%0A%0A%20%20%20%20%0A%20%20%20%20var%20tile_layer_f0a5a8aa6ede4e08852f516b245a7af6%20%3D%20L.tileLayer%28%0A%20%20%20%20%20%20%20%20%27https%3A//%7Bs%7D.tile.openstreetmap.org/%7Bz%7D/%7Bx%7D/%7By%7D.png%27%2C%0A%20%20%20%20%20%20%20%20%7B%0A%20%20%20%20%20%20%20%20%22attribution%22%3A%20null%2C%0A%20%20%20%20%20%20%20%20%22detectRetina%22%3A%20false%2C%0A%20%20%20%20%20%20%20%20%22maxNativeZoom%22%3A%2018%2C%0A%20%20%20%20%20%20%20%20%22maxZoom%22%3A%2018%2C%0A%20%20%20%20%20%20%20%20%22minZoom%22%3A%200%2C%0A%20%20%20%20%20%20%20%20%22noWrap%22%3A%20false%2C%0A%20%20%20%20%20%20%20%20%22opacity%22%3A%201%2C%0A%20%20%20%20%20%20%20%20%22subdomains%22%3A%20%22abc%22%2C%0A%20%20%20%20%20%20%20%20%22tms%22%3A%20false%0A%7D%29.addTo%28map_481517d599134ae5b6f1c1897eff50b4%29%3B%0A%20%20%20%20%0A%20%20%20%20%20%20%20%20var%20marker_fae07087061b4dbca91d5d176b27a054%20%3D%20L.marker%28%0A%20%20%20%20%20%20%20%20%20%20%20%20%5B41.38%2C%202.176%5D%2C%0A%20%20%20%20%20%20%20%20%20%20%20%20%7B%0A%20%20%20%20%20%20%20%20%20%20%20%20%20%20%20%20icon%3A%20new%20L.Icon.Default%28%29%2C%0A%20%20%20%20%20%20%20%20%20%20%20%20%20%20%20%20%7D%0A%20%20%20%20%20%20%20%20%20%20%20%20%29.addTo%28map_481517d599134ae5b6f1c1897eff50b4%29%3B%0A%20%20%20%20%20%20%20%20%0A%20%20%20%20%0A%20%20%20%20%20%20%20%20%20%20%20%20var%20popup_8dc1e41702c14e1ea762353f264c7b11%20%3D%20L.popup%28%7BmaxWidth%3A%20%27100%25%27%0A%20%20%20%20%20%20%20%20%20%20%20%20%0A%20%20%20%20%20%20%20%20%20%20%20%20%7D%29%3B%0A%0A%20%20%20%20%20%20%20%20%20%20%20%20%0A%20%20%20%20%20%20%20%20%20%20%20%20%20%20%20%20var%20html_21cdc29af4d54f138282473a86103a83%20%3D%20%24%28%60%3Cdiv%20id%3D%22html_21cdc29af4d54f138282473a86103a83%22%20style%3D%22width%3A%20100.0%25%3B%20height%3A%20100.0%25%3B%22%3E%3Ci%3EYou%20can%20use%20whateve%20HTML%20code%20you%20want%3C/i%3E%3C/div%3E%60%29%5B0%5D%3B%0A%20%20%20%20%20%20%20%20%20%20%20%20%20%20%20%20popup_8dc1e41702c14e1ea762353f264c7b11.setContent%28html_21cdc29af4d54f138282473a86103a83%29%3B%0A%20%20%20%20%20%20%20%20%20%20%20%20%0A%0A%20%20%20%20%20%20%20%20%20%20%20%20marker_fae07087061b4dbca91d5d176b27a054.bindPopup%28popup_8dc1e41702c14e1ea762353f264c7b11%29%0A%20%20%20%20%20%20%20%20%20%20%20%20%3B%0A%0A%20%20%20%20%20%20%20%20%20%20%20%20%0A%20%20%20%20%20%20%20%20%0A%20%20%20%20%0A%20%20%20%20%20%20%20%20marker_fae07087061b4dbca91d5d176b27a054.bindTooltip%28%0A%20%20%20%20%20%20%20%20%20%20%20%20%60%3Cdiv%3E%60%0A%20%20%20%20%20%20%20%20%20%20%20%20%2B%20%60click%20here%60%20%2B%20%60%3C/div%3E%60%2C%0A%20%20%20%20%20%20%20%20%20%20%20%20%7B%22sticky%22%3A%20true%7D%0A%20%20%20%20%20%20%20%20%29%3B%0A%20%20%20%20%20%20%20%20%0A%20%20%20%20%0A%20%20%20%20%20%20%20%20var%20marker_fc4ee9efac27477081698bd02ee5e223%20%3D%20L.marker%28%0A%20%20%20%20%20%20%20%20%20%20%20%20%5B41.38%2C%202.174%5D%2C%0A%20%20%20%20%20%20%20%20%20%20%20%20%7B%0A%20%20%20%20%20%20%20%20%20%20%20%20%20%20%20%20icon%3A%20new%20L.Icon.Default%28%29%2C%0A%20%20%20%20%20%20%20%20%20%20%20%20%20%20%20%20%7D%0A%20%20%20%20%20%20%20%20%20%20%20%20%29.addTo%28map_481517d599134ae5b6f1c1897eff50b4%29%3B%0A%20%20%20%20%20%20%20%20%0A%20%20%20%20%0A%20%20%20%20%20%20%20%20%20%20%20%20var%20popup_8603cc33f3d844cbba3a2f125e1a5041%20%3D%20L.popup%28%7BmaxWidth%3A%20%27100%25%27%0A%20%20%20%20%20%20%20%20%20%20%20%20%0A%20%20%20%20%20%20%20%20%20%20%20%20%7D%29%3B%0A%0A%20%20%20%20%20%20%20%20%20%20%20%20%0A%20%20%20%20%20%20%20%20%20%20%20%20%20%20%20%20var%20html_2167da53e17949b6aa70a17dba07e6d1%20%3D%20%24%28%60%3Cdiv%20id%3D%22html_2167da53e17949b6aa70a17dba07e6d1%22%20style%3D%22width%3A%20100.0%25%3B%20height%3A%20100.0%25%3B%22%3E%3Cb%3EYou%20can%20use%20whateve%20HTML%20code%20you%20want%3Cb%3E%3C/div%3E%60%29%5B0%5D%3B%0A%20%20%20%20%20%20%20%20%20%20%20%20%20%20%20%20popup_8603cc33f3d844cbba3a2f125e1a5041.setContent%28html_2167da53e17949b6aa70a17dba07e6d1%29%3B%0A%20%20%20%20%20%20%20%20%20%20%20%20%0A%0A%20%20%20%20%20%20%20%20%20%20%20%20marker_fc4ee9efac27477081698bd02ee5e223.bindPopup%28popup_8603cc33f3d844cbba3a2f125e1a5041%29%0A%20%20%20%20%20%20%20%20%20%20%20%20%3B%0A%0A%20%20%20%20%20%20%20%20%20%20%20%20%0A%20%20%20%20%20%20%20%20%0A%20%20%20%20%0A%20%20%20%20%20%20%20%20marker_fc4ee9efac27477081698bd02ee5e223.bindTooltip%28%0A%20%20%20%20%20%20%20%20%20%20%20%20%60%3Cdiv%3E%60%0A%20%20%20%20%20%20%20%20%20%20%20%20%2B%20%60dont%20click%20here%60%20%2B%20%60%3C/div%3E%60%2C%0A%20%20%20%20%20%20%20%20%20%20%20%20%7B%22sticky%22%3A%20true%7D%0A%20%20%20%20%20%20%20%20%29%3B%0A%20%20%20%20%20%20%20%20%0A%3C/script%3E onload=\"this.contentDocument.open();this.contentDocument.write(    decodeURIComponent(this.getAttribute('data-html')));this.contentDocument.close();\" allowfullscreen webkitallowfullscreen mozallowfullscreen></iframe></div></div>"
            ],
            "text/plain": [
              "<folium.folium.Map at 0x7fc106156910>"
            ]
          },
          "metadata": {},
          "execution_count": 4
        }
      ]
    },
    {
      "cell_type": "code",
      "source": [
        ""
      ],
      "metadata": {
        "id": "JrXPWAzCZ6Ow"
      },
      "execution_count": null,
      "outputs": []
    },
    {
      "cell_type": "code",
      "source": [
        "from geopandas.tools import geocode\n",
        "map_data = pd.read_csv('/content/drive/MyDrive/mapa.csv')\n",
        "map_data['geometry'] = geocode(map_data['Pais'], provider='nominatim')['geometry']\n",
        "map_data['Latitude'] = map_data['geometry'].apply(lambda l: l.y)\n",
        "map_data['Longitude'] = map_data['geometry'].apply(lambda l: l.x)"
      ],
      "metadata": {
        "id": "4bgqaiaVAUoL"
      },
      "execution_count": null,
      "outputs": []
    }
  ]
}